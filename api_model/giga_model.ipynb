{
 "cells": [
  {
   "cell_type": "code",
   "execution_count": 1,
   "id": "a38aa5f0-3c41-46a8-8400-c26a7515d92e",
   "metadata": {},
   "outputs": [],
   "source": [
    "AUTH_KEY = 'MDAzOTM4MDktY2Q0Ny00MjdjLThmYzgtMjlhNzk2N2IwYzcxOjJhYzE1YTYzLTQ5NjktNGM5OS05OTViLTc2OTkxNTZjNTQ2MA=='\n",
    "CLIENT_ID = '00393809-cd47-427c-8fc8-29a7967b0c71'\n",
    "MODEL_NAME = 'GigaChat'\n",
    "SCOPE = 'GIGACHAT_API_PERS'"
   ]
  },
  {
   "cell_type": "code",
   "execution_count": 2,
   "id": "482e316e-8972-4090-b846-634969bd3885",
   "metadata": {},
   "outputs": [],
   "source": [
    "from langchain_community.chat_models import GigaChat\n",
    "import os\n",
    "\n",
    "params = {'credentials':AUTH_KEY, 'scope':SCOPE, 'verify_ssl_certs':False}"
   ]
  },
  {
   "cell_type": "code",
   "execution_count": 3,
   "id": "b4639d33-ae10-45af-b0c1-cbb781051c3d",
   "metadata": {},
   "outputs": [
    {
     "name": "stderr",
     "output_type": "stream",
     "text": [
      "C:\\Users\\sedir\\AppData\\Roaming\\Python\\Python311\\site-packages\\sentence_transformers\\cross_encoder\\CrossEncoder.py:11: TqdmWarning: IProgress not found. Please update jupyter and ipywidgets. See https://ipywidgets.readthedocs.io/en/stable/user_install.html\n",
      "  from tqdm.autonotebook import tqdm, trange\n",
      "C:\\Users\\sedir\\AppData\\Roaming\\Python\\Python311\\site-packages\\huggingface_hub\\file_download.py:1132: FutureWarning: `resume_download` is deprecated and will be removed in version 1.0.0. Downloads always resume when possible. If you want to force a new download, use `force_download=True`.\n",
      "  warnings.warn(\n",
      "Some weights of RobertaModel were not initialized from the model checkpoint at ai-forever/ru-en-RoSBERTa and are newly initialized: ['pooler.dense.bias', 'pooler.dense.weight']\n",
      "You should probably TRAIN this model on a down-stream task to be able to use it for predictions and inference.\n"
     ]
    }
   ],
   "source": [
    "from model import embedder\n",
    "from search import Searcher"
   ]
  },
  {
   "cell_type": "code",
   "execution_count": 4,
   "id": "3ea060d6-61b5-4712-b6de-84529e6d5948",
   "metadata": {
    "scrolled": true
   },
   "outputs": [
    {
     "name": "stderr",
     "output_type": "stream",
     "text": [
      "Batches: 100%|███████████████████████████████████████████████████████████████████████████| 1/1 [00:09<00:00,  9.65s/it]\n",
      "Batches: 100%|███████████████████████████████████████████████████████████████████████████| 1/1 [00:09<00:00,  9.31s/it]\n",
      "Batches: 100%|███████████████████████████████████████████████████████████████████████████| 1/1 [00:02<00:00,  2.95s/it]\n",
      "Batches: 100%|███████████████████████████████████████████████████████████████████████████| 1/1 [00:00<00:00,  7.19it/s]\n",
      "Batches: 100%|███████████████████████████████████████████████████████████████████████████| 1/1 [00:00<00:00,  8.13it/s]\n",
      "Batches: 100%|███████████████████████████████████████████████████████████████████████████| 1/1 [00:00<00:00,  7.75it/s]\n",
      "Batches: 100%|███████████████████████████████████████████████████████████████████████████| 1/1 [00:00<00:00,  8.85it/s]\n",
      "Batches: 100%|███████████████████████████████████████████████████████████████████████████| 1/1 [00:00<00:00,  9.35it/s]\n",
      "Batches: 100%|███████████████████████████████████████████████████████████████████████████| 1/1 [00:00<00:00,  8.20it/s]\n",
      "Batches: 100%|███████████████████████████████████████████████████████████████████████████| 1/1 [00:00<00:00,  3.85it/s]\n",
      "Batches: 100%|███████████████████████████████████████████████████████████████████████████| 1/1 [00:00<00:00,  7.94it/s]\n",
      "Batches: 100%|███████████████████████████████████████████████████████████████████████████| 1/1 [00:00<00:00, 10.20it/s]\n",
      "Batches: 100%|███████████████████████████████████████████████████████████████████████████| 1/1 [00:00<00:00, 10.20it/s]\n",
      "Batches: 100%|███████████████████████████████████████████████████████████████████████████| 1/1 [00:00<00:00,  8.00it/s]\n",
      "Batches: 100%|███████████████████████████████████████████████████████████████████████████| 1/1 [00:00<00:00, 10.00it/s]\n",
      "Batches: 100%|███████████████████████████████████████████████████████████████████████████| 1/1 [00:00<00:00,  8.47it/s]\n",
      "Batches: 100%|███████████████████████████████████████████████████████████████████████████| 1/1 [00:00<00:00,  8.93it/s]\n",
      "Batches: 100%|███████████████████████████████████████████████████████████████████████████| 1/1 [00:00<00:00,  2.16it/s]\n",
      "Batches: 100%|███████████████████████████████████████████████████████████████████████████| 1/1 [00:00<00:00,  8.20it/s]\n",
      "Batches: 100%|███████████████████████████████████████████████████████████████████████████| 1/1 [00:00<00:00,  2.38it/s]\n",
      "Batches: 100%|███████████████████████████████████████████████████████████████████████████| 1/1 [00:00<00:00,  8.00it/s]\n",
      "Batches: 100%|███████████████████████████████████████████████████████████████████████████| 1/1 [00:00<00:00,  9.71it/s]\n",
      "Batches: 100%|███████████████████████████████████████████████████████████████████████████| 1/1 [00:00<00:00,  7.81it/s]\n",
      "Batches: 100%|███████████████████████████████████████████████████████████████████████████| 1/1 [00:00<00:00,  8.06it/s]\n",
      "Batches: 100%|███████████████████████████████████████████████████████████████████████████| 1/1 [00:00<00:00,  9.17it/s]\n",
      "Batches: 100%|███████████████████████████████████████████████████████████████████████████| 1/1 [00:00<00:00,  7.75it/s]\n",
      "Batches: 100%|███████████████████████████████████████████████████████████████████████████| 1/1 [00:00<00:00,  9.09it/s]\n",
      "Batches: 100%|███████████████████████████████████████████████████████████████████████████| 1/1 [00:00<00:00,  8.13it/s]\n",
      "Batches: 100%|███████████████████████████████████████████████████████████████████████████| 1/1 [00:00<00:00,  8.06it/s]\n",
      "Batches: 100%|███████████████████████████████████████████████████████████████████████████| 1/1 [00:00<00:00, 10.10it/s]\n",
      "Batches: 100%|███████████████████████████████████████████████████████████████████████████| 1/1 [00:00<00:00, 10.64it/s]\n",
      "Batches: 100%|███████████████████████████████████████████████████████████████████████████| 1/1 [00:00<00:00, 10.20it/s]\n",
      "Batches: 100%|███████████████████████████████████████████████████████████████████████████| 1/1 [00:00<00:00,  8.93it/s]\n",
      "Batches: 100%|███████████████████████████████████████████████████████████████████████████| 1/1 [00:00<00:00,  8.13it/s]\n",
      "Batches: 100%|███████████████████████████████████████████████████████████████████████████| 1/1 [00:00<00:00,  8.47it/s]\n",
      "Batches: 100%|███████████████████████████████████████████████████████████████████████████| 1/1 [00:00<00:00,  9.35it/s]\n",
      "Batches: 100%|███████████████████████████████████████████████████████████████████████████| 1/1 [00:00<00:00, 10.10it/s]\n",
      "Batches: 100%|███████████████████████████████████████████████████████████████████████████| 1/1 [00:00<00:00,  7.75it/s]\n",
      "Batches: 100%|███████████████████████████████████████████████████████████████████████████| 1/1 [00:00<00:00,  9.26it/s]\n",
      "Batches: 100%|███████████████████████████████████████████████████████████████████████████| 1/1 [00:00<00:00,  7.87it/s]\n",
      "Batches: 100%|███████████████████████████████████████████████████████████████████████████| 1/1 [00:00<00:00,  7.19it/s]\n",
      "Batches: 100%|███████████████████████████████████████████████████████████████████████████| 1/1 [00:00<00:00,  9.62it/s]\n",
      "Batches: 100%|███████████████████████████████████████████████████████████████████████████| 1/1 [00:00<00:00,  6.49it/s]\n",
      "Batches: 100%|███████████████████████████████████████████████████████████████████████████| 1/1 [00:00<00:00,  8.40it/s]\n",
      "Batches: 100%|███████████████████████████████████████████████████████████████████████████| 1/1 [00:00<00:00,  7.87it/s]\n",
      "Batches: 100%|███████████████████████████████████████████████████████████████████████████| 1/1 [00:00<00:00,  5.88it/s]\n",
      "Batches: 100%|███████████████████████████████████████████████████████████████████████████| 1/1 [00:00<00:00,  7.94it/s]\n",
      "Batches: 100%|███████████████████████████████████████████████████████████████████████████| 1/1 [00:00<00:00,  8.00it/s]\n",
      "Batches: 100%|███████████████████████████████████████████████████████████████████████████| 1/1 [00:00<00:00,  8.47it/s]\n",
      "Batches: 100%|███████████████████████████████████████████████████████████████████████████| 1/1 [00:00<00:00,  8.06it/s]\n",
      "Batches: 100%|███████████████████████████████████████████████████████████████████████████| 1/1 [00:00<00:00,  8.06it/s]\n",
      "Batches: 100%|███████████████████████████████████████████████████████████████████████████| 1/1 [00:00<00:00,  8.55it/s]\n",
      "Batches: 100%|███████████████████████████████████████████████████████████████████████████| 1/1 [00:00<00:00,  3.62it/s]\n",
      "Batches: 100%|███████████████████████████████████████████████████████████████████████████| 1/1 [00:00<00:00,  8.62it/s]\n",
      "Batches: 100%|███████████████████████████████████████████████████████████████████████████| 1/1 [00:00<00:00,  6.94it/s]\n",
      "Batches: 100%|███████████████████████████████████████████████████████████████████████████| 1/1 [00:00<00:00,  8.20it/s]\n",
      "Batches: 100%|███████████████████████████████████████████████████████████████████████████| 1/1 [00:00<00:00,  8.47it/s]\n",
      "Batches: 100%|███████████████████████████████████████████████████████████████████████████| 1/1 [00:00<00:00,  7.14it/s]\n",
      "Batches: 100%|███████████████████████████████████████████████████████████████████████████| 1/1 [00:00<00:00,  7.09it/s]\n",
      "Batches: 100%|███████████████████████████████████████████████████████████████████████████| 1/1 [00:00<00:00,  6.62it/s]\n",
      "Batches: 100%|███████████████████████████████████████████████████████████████████████████| 1/1 [00:00<00:00,  7.19it/s]\n",
      "Batches: 100%|███████████████████████████████████████████████████████████████████████████| 1/1 [00:00<00:00,  8.40it/s]\n",
      "Batches: 100%|███████████████████████████████████████████████████████████████████████████| 1/1 [00:00<00:00,  7.58it/s]\n",
      "Batches: 100%|███████████████████████████████████████████████████████████████████████████| 1/1 [00:00<00:00,  6.29it/s]\n",
      "Batches: 100%|███████████████████████████████████████████████████████████████████████████| 1/1 [00:00<00:00,  7.14it/s]\n",
      "Batches: 100%|███████████████████████████████████████████████████████████████████████████| 1/1 [00:00<00:00,  6.99it/s]\n",
      "Batches: 100%|███████████████████████████████████████████████████████████████████████████| 1/1 [00:00<00:00,  7.60it/s]\n",
      "Batches: 100%|███████████████████████████████████████████████████████████████████████████| 1/1 [00:00<00:00,  8.58it/s]\n",
      "Batches: 100%|███████████████████████████████████████████████████████████████████████████| 1/1 [00:00<00:00,  8.26it/s]\n",
      "Batches: 100%|███████████████████████████████████████████████████████████████████████████| 1/1 [00:00<00:00,  7.58it/s]\n",
      "Batches: 100%|███████████████████████████████████████████████████████████████████████████| 1/1 [00:00<00:00,  7.58it/s]\n",
      "Batches: 100%|███████████████████████████████████████████████████████████████████████████| 1/1 [00:00<00:00,  5.71it/s]\n",
      "Batches: 100%|███████████████████████████████████████████████████████████████████████████| 1/1 [00:00<00:00,  7.35it/s]\n",
      "Batches: 100%|███████████████████████████████████████████████████████████████████████████| 1/1 [00:00<00:00,  7.41it/s]\n",
      "Batches: 100%|███████████████████████████████████████████████████████████████████████████| 1/1 [00:00<00:00,  9.35it/s]\n",
      "Batches: 100%|███████████████████████████████████████████████████████████████████████████| 1/1 [00:00<00:00,  7.41it/s]\n",
      "Batches: 100%|███████████████████████████████████████████████████████████████████████████| 1/1 [00:00<00:00,  8.70it/s]\n",
      "Batches: 100%|███████████████████████████████████████████████████████████████████████████| 1/1 [00:00<00:00,  8.93it/s]\n",
      "Batches: 100%|███████████████████████████████████████████████████████████████████████████| 1/1 [00:00<00:00,  9.09it/s]\n",
      "Batches: 100%|███████████████████████████████████████████████████████████████████████████| 1/1 [00:00<00:00,  5.08it/s]\n",
      "Batches: 100%|███████████████████████████████████████████████████████████████████████████| 1/1 [00:00<00:00,  7.52it/s]\n",
      "Batches: 100%|███████████████████████████████████████████████████████████████████████████| 1/1 [00:00<00:00,  8.33it/s]\n",
      "Batches: 100%|███████████████████████████████████████████████████████████████████████████| 1/1 [00:00<00:00,  9.62it/s]\n",
      "Batches: 100%|███████████████████████████████████████████████████████████████████████████| 1/1 [00:00<00:00,  9.52it/s]\n",
      "Batches: 100%|███████████████████████████████████████████████████████████████████████████| 1/1 [00:00<00:00,  9.43it/s]\n",
      "Batches: 100%|███████████████████████████████████████████████████████████████████████████| 1/1 [00:00<00:00,  9.43it/s]\n",
      "Batches: 100%|███████████████████████████████████████████████████████████████████████████| 1/1 [00:00<00:00,  9.43it/s]\n",
      "Batches: 100%|███████████████████████████████████████████████████████████████████████████| 1/1 [00:00<00:00,  9.62it/s]\n",
      "Batches: 100%|███████████████████████████████████████████████████████████████████████████| 1/1 [00:00<00:00,  9.52it/s]\n",
      "Batches: 100%|███████████████████████████████████████████████████████████████████████████| 1/1 [00:00<00:00,  9.71it/s]\n",
      "Batches: 100%|███████████████████████████████████████████████████████████████████████████| 1/1 [00:00<00:00,  9.52it/s]\n",
      "Batches: 100%|███████████████████████████████████████████████████████████████████████████| 1/1 [00:00<00:00,  9.43it/s]\n",
      "Batches: 100%|███████████████████████████████████████████████████████████████████████████| 1/1 [00:00<00:00,  9.62it/s]\n",
      "Batches: 100%|███████████████████████████████████████████████████████████████████████████| 1/1 [00:00<00:00,  9.62it/s]\n",
      "Batches: 100%|███████████████████████████████████████████████████████████████████████████| 1/1 [00:00<00:00,  9.43it/s]\n",
      "Batches: 100%|███████████████████████████████████████████████████████████████████████████| 1/1 [00:00<00:00,  9.43it/s]\n",
      "Batches: 100%|███████████████████████████████████████████████████████████████████████████| 1/1 [00:00<00:00,  9.09it/s]\n",
      "Batches: 100%|███████████████████████████████████████████████████████████████████████████| 1/1 [00:00<00:00,  9.26it/s]\n",
      "Batches: 100%|███████████████████████████████████████████████████████████████████████████| 1/1 [00:00<00:00,  9.62it/s]\n",
      "Batches: 100%|███████████████████████████████████████████████████████████████████████████| 1/1 [00:00<00:00,  8.00it/s]\n",
      "Batches: 100%|███████████████████████████████████████████████████████████████████████████| 1/1 [00:00<00:00,  8.85it/s]\n",
      "Batches: 100%|███████████████████████████████████████████████████████████████████████████| 1/1 [00:00<00:00,  9.71it/s]\n",
      "Batches: 100%|███████████████████████████████████████████████████████████████████████████| 1/1 [00:00<00:00,  9.52it/s]\n",
      "Batches: 100%|███████████████████████████████████████████████████████████████████████████| 1/1 [00:00<00:00,  9.35it/s]\n"
     ]
    }
   ],
   "source": [
    "searcher = Searcher(model=embedder)\n",
    "await searcher.load_questions()\n",
    "await searcher.chunk_text_with_embeddings()"
   ]
  },
  {
   "cell_type": "code",
   "execution_count": 89,
   "id": "e3df9dfd-f1f1-4e65-96b9-f393549ba41e",
   "metadata": {},
   "outputs": [],
   "source": [
    "class GigaModel:\n",
    "    def __init__(self, auth_key, scope, model_name, searcher):\n",
    "        self.params = {'credentials':auth_key, 'scope':scope, 'verify_ssl_certs':False, 'model_name': model_name}\n",
    "        self.llm = GigaChat(**self.params, temperature=0.01)\n",
    "        self.searcher = searcher\n",
    "\n",
    "    async def chat(self, text):\n",
    "        try:\n",
    "            res = self.llm.invoke(text)\n",
    "            return res.content\n",
    "        except Exception as e:\n",
    "            print(e)\n",
    "            return 'Error'\n",
    "\n",
    "    async def get_rag_result(self, question):\n",
    "        try:\n",
    "            new_question = await giga.llm.ainvoke(f'A question has been sent to you from a user. If it\\'s not accurate enough, rephrase it. Give me only new or old question.\\nQuestion: {question}')\n",
    "            new_question = new_question.content\n",
    "            if len(new_question.split(':')) == 2:\n",
    "                new_question = new_question.split(':')[-1].strip()\n",
    "        except Exception as e:\n",
    "            print(e)\n",
    "            new_question = question\n",
    "\n",
    "        chunks = [c[0] for c in await self.searcher.search_query(new_question, threshold_embed=0.5)]\n",
    "        system_prompt = 'You are an assistant at the Preparatory Department for Foreign Students of the Ural Federal University. Your goal is to answer the questions that the applicants ask you.'\n",
    "        documents = '\\n'.join([f'Question: {c.metadata[\"question\"]}\\tAnswer: {c.page_content}' for c in chunks])\n",
    "        task = f'The FAQ is presented to you, using this information, answer the question you asked.\\nFAQ: {documents}'\n",
    "        task = task[:15000] + f'\\nQuestion: {new_question}'\n",
    "        query = system_prompt + '\\n' + task\n",
    "        \n",
    "        try:\n",
    "            res = await self.llm.ainvoke(query)\n",
    "            # print(query)\n",
    "            return res.content\n",
    "        except Exception as e:\n",
    "            print(e)\n",
    "            return ''"
   ]
  },
  {
   "cell_type": "code",
   "execution_count": 90,
   "id": "d03fd98d-18e9-4cd3-92a4-12bd40a6679e",
   "metadata": {},
   "outputs": [],
   "source": [
    "giga = GigaModel()"
   ]
  },
  {
   "cell_type": "code",
   "execution_count": 91,
   "id": "3f7c827d-a8ae-4d22-8519-f43708a612b2",
   "metadata": {},
   "outputs": [],
   "source": [
    "question = 'How much will the training cost?'"
   ]
  },
  {
   "cell_type": "code",
   "execution_count": 92,
   "id": "3e16caa3-20cb-46c7-aec7-60d62fd1087c",
   "metadata": {},
   "outputs": [
    {
     "name": "stderr",
     "output_type": "stream",
     "text": [
      "2024-11-27 21:30:27,372 - [INFO] - httpx - (_client.py)._send_single_request(1773) - HTTP Request: POST https://ngw.devices.sberbank.ru:9443/api/v2/oauth \"HTTP/1.1 200 OK\"\n",
      "2024-11-27 21:30:27,374 - [INFO] - gigachat.client - (client.py)._aupdate_token(336) - OAUTH UPDATE TOKEN\n",
      "2024-11-27 21:30:28,188 - [INFO] - httpx - (_client.py)._send_single_request(1773) - HTTP Request: POST https://gigachat.devices.sberbank.ru/api/v1/chat/completions \"HTTP/1.1 200 OK\"\n",
      "Batches: 100%|███████████████████████████████████████████████████████████████████████████| 1/1 [00:00<00:00,  8.33it/s]\n",
      "2024-11-27 21:30:29,288 - [INFO] - httpx - (_client.py)._send_single_request(1773) - HTTP Request: POST https://gigachat.devices.sberbank.ru/api/v1/chat/completions \"HTTP/1.1 200 OK\"\n"
     ]
    },
    {
     "name": "stdout",
     "output_type": "stream",
     "text": [
      "You are an assistant at the Preparatory Department for Foreign Students of the Ural Federal University. Your goal is to answer the questions that the applicants ask you.\n",
      "The FAQ is presented to you, using this information, answer the question you asked.\n",
      "FAQ: Question: What are the tuition fees for programs at Ural Federal University?\tAnswer: Tuition fees at Ural Federal University depend on the program you choose. Please check the list of available programs in the [Programs and Courses](https:/urfu.ru/en/international/programs-and-courses/) section. All information regarding tuition fees can be found in this section.\n",
      "Question: Are there any additional fees?\tAnswer: Please keep in mind that Ural Federal University does not claim any deposits for tuition fees or charge any additional registration fees for internal admission procedures (including application*, admission interviews, expert evaluation of educational documents etc).\n",
      "If you are applying to a university through recruitment agencies or private intermediaries who may require payment for their services — for these transactions the University has no financial liability.\n",
      "*with the exception of the Stamp Duty fee (800 RUB) charged by the Ministry of Foreign Affairs for document processing for certain visa types.\n",
      "Question: What are the tuition fees for Russian language courses at UrFU?\tAnswer: The tuition fees for Russian language courses at UrFU vary depending on the program and duration. For detailed information about fees and payment options, please visit the [Fees](https:/rfl.urfu.ru/ru/programmy-obuchenija/podgotovitelnyi-god/).\n",
      "Question: What are the tuition fees for Russian language courses at UrFU?\tAnswer: Tuition fees for Russian language courses at UrFU vary based on the program and duration. Key information includes:\n",
      "- Preparatory Year: Costs and details for the full-year program.\n",
      "- Short-term Courses: Fees for intensive short-term courses.\n",
      "- Specialized and Online Courses: Information on fees for specialized and online courses.\n",
      "For the latest fee structure, visit the [Fees section](https:/rfl.urfu.ru/ru/programmy-obuchenija/podgotovitelnyi-god/).\n",
      "Question: Are there any scholarships available for international students?\tAnswer: \n",
      "Question: What are the tuition fees at UrFU?\tAnswer: Tuition fees at Ural Federal University depend on the program you choose. Please check the list of available programs in the [Programs and Courses](https:/urfu.ru/en/international/programs-and-courses/) section. All information regarding tuition fees can be found in this section.\n",
      "Question: Can I study on a Russian-taught program?\tAnswer: Studying on a Russian-taught program is possible after completing a preparatory year at the [UrFU Russian Language School](https:/rfl.urfu.ru/en/) (or any other accredited Russian language school) and receiving a Russian language certificate.\n",
      "Question: Are there any tuition discounts available at UrFU?\tAnswer: The University has a flexible tuition fee discount system: a 4% discount on advance payment (for each year of study), applicants who get 40 and more points at the entrance exam get a tuition fee discount between 10 and 30% for the entire period of study. You can contact the UrFU Admission Team at admission@urfu.ru or on +7 (992) 000-77-03 (WhatsApp) for more information.\n",
      "Question: Are there any discounts?\tAnswer: The University has a flexible tuition fee discount system:\n",
      "a 4 % discount on advance payment (for each year of study),\n",
      "applicants who get 40 and more points at the entrance exam, get a tuition fee discount between 10 and 30% for the entire period of study. \n",
      "You can contact the UrFU Admission Team at admission@urfu.ru or on +7 (992) 000-77-03 (WhatsApp) for more information.\n",
      "Question: Each year, the Russian government allocates a certain number of state-funded places for studies at Russian universities for international students. You can apply for the Scholarship of the Ministry of Science and Higher Education of the Russian Federation at the [website of the Ministry](https:/education-in-russia.com/?\tAnswer: fbclid=IwAR1sdzBHYzRAHOo2yrO2bAK6KdTUsUTB7TJ99QEkWk0SXpdboHunhIK-AQ0). If you have any problems with the registration, please check [this instruction](https:/urfu.ru/en/international/information-for-prospective-international-students/russian-government-scholarship/).\n",
      "Question: Each year, the Russian government allocates a certain number of state-funded places for studies at Russian universities for international students. You can apply for the Scholarship of the Ministry of Science and Higher Education of the Russian Federation at the [website of the Ministry](https:/education-in-russia.com/?\tAnswer: fbclid=IwAR1sdzBHYzRAHOo2yrO2bAK6KdTUsUTB7TJ99QEkWk0SXpdboHunhIK-AQ0). If you have any problems with the registration, please check [this instruction](https:/urfu.ru/en/international/information-for-prospective-international-students/russian-government-scholarship/).\n",
      "Question: Does UrFU charge any additional fees beyond tuition?\tAnswer: Please keep in mind that Ural Federal University does not claim any deposits for tuition fees or charge any additional registration fees for internal admission procedures (including application*, admission interviews, expert evaluation of educational documents, etc). If you are applying to a university through recruitment agencies or private intermediaries who may require payment for their services — for these transactions the University has no financial liability. *with the exception of the Stamp Duty fee (800 RUB) charged by the Ministry of Foreign Affairs for document processing for certain visa types.\n",
      "Question: Is there a service for meeting and assisting students at the airport upon arrival?\tAnswer: Yes! A Buddy student can meet you at the airport or train station and take you to the campus. All taxi rides must be paid for by you, including your Buddy's ride to the airport. Please fill in the [Arrival Form](https:/urfu.ru/en/international/information-for-prospective-international-students/application-information/arrival-form/) at least 10 days prior to your arrival.\n",
      "Question: Are there any preparatory programs for international students at UrFU?\tAnswer: Yes, UrFU offers preparatory programs specifically designed for international students who need to improve their Russian language skills before starting their main academic studies. These programs cover grammar, vocabulary, speaking, and writing skills. For more information, visit [this page](https:/rfl.urfu.ru/ru/programmy-obuchenija/podgotovitelnyi-god/).\n",
      "Question: Are there any preparatory programs for international students at UrFU?\tAnswer: Yes, UrFU offers comprehensive preparatory programs for international students. These programs include:\n",
      "- Preparatory Year Program: Aimed at improving Russian language skills to help students integrate into the university's academic environment.\n",
      "- Specialized Preparatory Courses: Focused on specific fields like engineering, humanities, economics, medical, and natural sciences.\n",
      "These programs cover grammar, vocabulary, speaking, and writing, and are essential for non-native speakers planning to study in Russia. More details are available [here](https:/rfl.urfu.ru/ru/programmy-obuchenija/podgotovitelnyi-god/).\n",
      "Question: What support services are available for international students at UrFU?\tAnswer: UrFU offers a range of support services for international students, including visa assistance, accommodation help, and academic support. The university also provides resources for cultural adaptation and language practice. More details can be found [here](https:/rfl.urfu.ru/ru/o-nas/podderzhka-studentov/).\n",
      "Question: What support services are available for international students at UrFU?\tAnswer: UrFU offers various support services for international students, including:\n",
      "- Visa Assistance and Accommodation Help\n",
      "- Academic Support and Cultural Adaptation Resources\n",
      "For more details, visit [here](https:/rfl.urfu.ru/ru/o-nas/podderzhka-studentov/).\n",
      "Question: When do lectures begin and finish?\tAnswer: All the information about dates can be found [here](https:/urfu.ru/en/current-students/academic-planning/academic-calendar/).\n",
      "Question: Are MBA programs for international students offered at UrFU?\tAnswer: Learn more about [MBA courses at UrFU](http:/mba.mba-urfu.com/) (in Russian).\n",
      "Question: What is the cost of the training program?\n"
     ]
    },
    {
     "data": {
      "text/plain": [
       "\"The cost of the training program depends on the specific program you choose. To find out more about the tuition fees for different programs, please visit the [Programs and Courses](https://urfu.ru/en/international/programs-and-courses/) section on the university's website.\""
      ]
     },
     "execution_count": 92,
     "metadata": {},
     "output_type": "execute_result"
    }
   ],
   "source": [
    "await giga.get_rag_result(question)"
   ]
  },
  {
   "cell_type": "code",
   "execution_count": null,
   "id": "7c8925c2-ae34-477d-8922-e48a1fed0533",
   "metadata": {},
   "outputs": [],
   "source": []
  },
  {
   "cell_type": "code",
   "execution_count": null,
   "id": "d8f78bf7-982b-491a-8332-f45f9d5f84aa",
   "metadata": {},
   "outputs": [],
   "source": []
  },
  {
   "cell_type": "code",
   "execution_count": null,
   "id": "2acc7479-cb72-4043-9f9b-8b9e59626d8f",
   "metadata": {},
   "outputs": [],
   "source": []
  }
 ],
 "metadata": {
  "kernelspec": {
   "display_name": "Python 3 (ipykernel)",
   "language": "python",
   "name": "python3"
  },
  "language_info": {
   "codemirror_mode": {
    "name": "ipython",
    "version": 3
   },
   "file_extension": ".py",
   "mimetype": "text/x-python",
   "name": "python",
   "nbconvert_exporter": "python",
   "pygments_lexer": "ipython3",
   "version": "3.11.5"
  }
 },
 "nbformat": 4,
 "nbformat_minor": 5
}
